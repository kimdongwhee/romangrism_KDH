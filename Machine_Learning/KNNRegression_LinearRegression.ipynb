{
 "cells": [
  {
   "cell_type": "code",
   "execution_count": 1,
   "metadata": {},
   "outputs": [],
   "source": [
    "#라이브러리 호출\n",
    "import numpy as np\n",
    "\n",
    "#배열 생성\n",
    "perch_length = np.array(\n",
    "    [8.4, 13.7, 15.0, 16.2, 17.4, 18.0, 18.7, 19.0, 19.6, 20.0,\n",
    "     21.0, 21.0, 21.0, 21.3, 22.0, 22.0, 22.0, 22.0, 22.0, 22.5,\n",
    "     22.5, 22.7, 23.0, 23.5, 24.0, 24.0, 24.6, 25.0, 25.6, 26.5,\n",
    "     27.3, 27.5, 27.5, 27.5, 28.0, 28.7, 30.0, 32.8, 34.5, 35.0,\n",
    "     36.5, 36.0, 37.0, 37.0, 39.0, 39.0, 39.0, 40.0, 40.0, 40.0,\n",
    "     40.0, 42.0, 43.0, 43.0, 43.5, 44.0]\n",
    "     )\n",
    "perch_weight = np.array(\n",
    "    [5.9, 32.0, 40.0, 51.5, 70.0, 100.0, 78.0, 80.0, 85.0, 85.0,\n",
    "     110.0, 115.0, 125.0, 130.0, 120.0, 120.0, 130.0, 135.0, 110.0,\n",
    "     130.0, 150.0, 145.0, 150.0, 170.0, 225.0, 145.0, 188.0, 180.0,\n",
    "     197.0, 218.0, 300.0, 260.0, 265.0, 250.0, 250.0, 300.0, 320.0,\n",
    "     514.0, 556.0, 840.0, 685.0, 700.0, 700.0, 690.0, 900.0, 650.0,\n",
    "     820.0, 850.0, 900.0, 1015.0, 820.0, 1100.0, 1000.0, 1100.0,\n",
    "     1000.0, 1000.0]\n",
    "     )"
   ]
  },
  {
   "cell_type": "code",
   "execution_count": 2,
   "metadata": {},
   "outputs": [
    {
     "data": {
      "image/png": "[encoded data removed]",
      "text/plain": [
       "<Figure size 640x480 with 1 Axes>"
      ]
     },
     "metadata": {},
     "output_type": "display_data"
    }
   ],
   "source": [
    "#시각화 : 산점도\n",
    "import matplotlib.pyplot as plt\n",
    "plt.scatter(perch_length,perch_weight)\n",
    "plt.xlabel(\"length\")\n",
    "plt.ylabel(\"weight\")\n",
    "plt.show()"
   ]
  },
  {
   "cell_type": "code",
   "execution_count": 3,
   "metadata": {},
   "outputs": [
    {
     "name": "stdout",
     "output_type": "stream",
     "text": [
      "train_input:\n",
      "1\n",
      "train_input:\n",
      "(42,)\n",
      "train_input:\n",
      "[19.6 22.  18.7 17.4 36. ]\n",
      "train_input:\n",
      "1\n",
      "test_input:\n",
      "(14,)\n",
      "test_input:\n",
      "[ 8.4 18.  27.5 21.3 22.5]\n",
      "\n",
      "1차원 배열인 것을 2차원배열로 전환해야함\n"
     ]
    }
   ],
   "source": [
    "#트레이닝/테스트 셋 나누기\n",
    "from sklearn.model_selection import train_test_split\n",
    "train_input, test_input, train_target, test_target = train_test_split(perch_length, perch_weight, random_state=42)\n",
    "\n",
    "print(f\"train_input:\\n{train_input.ndim}\")\n",
    "print(f\"train_input:\\n{train_input.shape}\")\n",
    "print(f\"train_input:\\n{train_input[:5]}\")\n",
    "print(f\"train_input:\\n{test_input.ndim}\")\n",
    "print(f\"test_input:\\n{test_input.shape}\")\n",
    "print(f\"test_input:\\n{test_input[:5]}\")\n",
    "print(\"\\n1차원 배열인 것을 2차원배열로 전환해야함\")"
   ]
  },
  {
   "cell_type": "code",
   "execution_count": 4,
   "metadata": {},
   "outputs": [
    {
     "name": "stdout",
     "output_type": "stream",
     "text": [
      "train_input:\n",
      "2\n",
      "train_input:\n",
      "(42, 1)\n",
      "train_input:\n",
      "[[19.6]\n",
      " [22. ]\n",
      " [18.7]\n",
      " [17.4]\n",
      " [36. ]]\n",
      "train_input:\n",
      "2\n",
      "test_input:\n",
      "(14, 1)\n",
      "test_input:\n",
      "[[ 8.4]\n",
      " [18. ]\n",
      " [27.5]\n",
      " [21.3]\n",
      " [22.5]]\n"
     ]
    }
   ],
   "source": [
    "train_input = train_input.reshape(-1,1) #-1을 지정하면 나머지 원소개수로 모두채우라는 의미임\n",
    "test_input = test_input.reshape(-1,1)\n",
    "\n",
    "print(f\"train_input:\\n{train_input.ndim}\")\n",
    "print(f\"train_input:\\n{train_input.shape}\")\n",
    "print(f\"train_input:\\n{train_input[:5]}\")\n",
    "print(f\"train_input:\\n{test_input.ndim}\")\n",
    "print(f\"test_input:\\n{test_input.shape}\")\n",
    "print(f\"test_input:\\n{test_input[:5]}\")"
   ]
  },
  {
   "cell_type": "code",
   "execution_count": 5,
   "metadata": {},
   "outputs": [
    {
     "name": "stdout",
     "output_type": "stream",
     "text": [
      "점수\t:\n",
      "0.992809406101064\n"
     ]
    }
   ],
   "source": [
    "#모델 생성 및 훈련 : 결정계수(R^2)\n",
    "from sklearn.neighbors import KNeighborsRegressor\n",
    "#모델생성\n",
    "knr = KNeighborsRegressor()\n",
    "#모델훈련\n",
    "knr.fit(train_input,train_target)\n",
    "#점수 확인\n",
    "print(f\"점수\\t:\\n{knr.score(test_input,test_target)}\")"
   ]
  },
  {
   "cell_type": "code",
   "execution_count": 6,
   "metadata": {},
   "outputs": [
    {
     "name": "stdout",
     "output_type": "stream",
     "text": [
      "[  60.    79.6  248.   122.   136.   847.   311.4  183.4  847.   113.\n",
      " 1010.    60.   248.   248. ]\n",
      "오차\t:\t19.16\n"
     ]
    }
   ],
   "source": [
    "from sklearn.metrics import mean_absolute_error\n",
    "\n",
    "#테스트세트 예측\n",
    "test_predict = knr.predict(test_input)\n",
    "print(test_predict)\n",
    "\n",
    "#결정계수 오차 확인\n",
    "mae = mean_absolute_error(test_target, test_predict) #실제값과 예측값으로 오차확인\n",
    "print(f\"오차\\t:\\t{round(mae,2)}\") #약 19g 정도의 오차가 발생함"
   ]
  },
  {
   "cell_type": "markdown",
   "metadata": {},
   "source": [
    "과대적합/과소적합<br>\n",
    "*보통 훈련 세트의 점수가 조금더 높게나오는데, 그 이유는 훈련세트에서 모델을 훈련했으므로 훈련 세트에서 더 좋은 점수가 나옴<br>\n",
    "(1)과대적합 : 훈련 점수는 좋으나 테스트 점수가 굉장히 낮을경우<br>\n",
    "(2)과소적합 : 테스트 점수가 훈련 점수보다 다소 높거나 두점수가 모두 낮을 경우. 이는 훈련/테스트 데이터 양이 매우 적기때문임"
   ]
  },
  {
   "cell_type": "code",
   "execution_count": 7,
   "metadata": {},
   "outputs": [
    {
     "name": "stdout",
     "output_type": "stream",
     "text": [
      "트레이닝 점수\t:\t0.9698823289099254\n",
      "테스트 점수\t:\t0.992809406101064\n",
      "테스트 점수가 높은것으로 과소적합으로 보임\n"
     ]
    }
   ],
   "source": [
    "print(f\"트레이닝 점수\\t:\\t{knr.score(train_input,train_target)}\")\n",
    "print(f\"테스트 점수\\t:\\t{knr.score(test_input,test_target)}\")\n",
    "print(\"테스트 점수가 높은것으로 과소적합으로 보임\")"
   ]
  },
  {
   "cell_type": "code",
   "execution_count": 8,
   "metadata": {},
   "outputs": [
    {
     "name": "stdout",
     "output_type": "stream",
     "text": [
      "트레이닝 점수\t:\t0.9804899950518966\n",
      "테스트 점수\t:\t0.9746459963987609\n"
     ]
    }
   ],
   "source": [
    "#이웃의 개수를 3으로 설정\n",
    "knr.n_neighbors = 3 #지정을 안하면 기본값 5\n",
    "\n",
    "#모델 재훈련\n",
    "knr.fit(train_input,train_target)\n",
    "\n",
    "#점수 확인\n",
    "print(f\"트레이닝 점수\\t:\\t{knr.score(train_input,train_target)}\")\n",
    "print(f\"테스트 점수\\t:\\t{knr.score(test_input,test_target)}\")"
   ]
  },
  {
   "cell_type": "markdown",
   "metadata": {},
   "source": [
    "K-최근접이웃의 한계"
   ]
  },
  {
   "cell_type": "code",
   "execution_count": 9,
   "metadata": {},
   "outputs": [],
   "source": [
    "#라이브러리 호출\n",
    "import numpy as np\n",
    "\n",
    "#배열 생성\n",
    "perch_length = np.array(\n",
    "    [8.4, 13.7, 15.0, 16.2, 17.4, 18.0, 18.7, 19.0, 19.6, 20.0,\n",
    "     21.0, 21.0, 21.0, 21.3, 22.0, 22.0, 22.0, 22.0, 22.0, 22.5,\n",
    "     22.5, 22.7, 23.0, 23.5, 24.0, 24.0, 24.6, 25.0, 25.6, 26.5,\n",
    "     27.3, 27.5, 27.5, 27.5, 28.0, 28.7, 30.0, 32.8, 34.5, 35.0,\n",
    "     36.5, 36.0, 37.0, 37.0, 39.0, 39.0, 39.0, 40.0, 40.0, 40.0,\n",
    "     40.0, 42.0, 43.0, 43.0, 43.5, 44.0]\n",
    "     )\n",
    "perch_weight = np.array(\n",
    "    [5.9, 32.0, 40.0, 51.5, 70.0, 100.0, 78.0, 80.0, 85.0, 85.0,\n",
    "     110.0, 115.0, 125.0, 130.0, 120.0, 120.0, 130.0, 135.0, 110.0,\n",
    "     130.0, 150.0, 145.0, 150.0, 170.0, 225.0, 145.0, 188.0, 180.0,\n",
    "     197.0, 218.0, 300.0, 260.0, 265.0, 250.0, 250.0, 300.0, 320.0,\n",
    "     514.0, 556.0, 840.0, 685.0, 700.0, 700.0, 690.0, 900.0, 650.0,\n",
    "     820.0, 850.0, 900.0, 1015.0, 820.0, 1100.0, 1000.0, 1100.0,\n",
    "     1000.0, 1000.0]\n",
    "     )"
   ]
  },
  {
   "cell_type": "code",
   "execution_count": 10,
   "metadata": {},
   "outputs": [
    {
     "name": "stdout",
     "output_type": "stream",
     "text": [
      "변경전 train input :\n",
      "[19.6 22.  18.7 17.4 36. ]\n",
      "변경전 test input :\n",
      "[ 8.4 18.  27.5 21.3 22.5]\n",
      "변경후 train input :\n",
      "[[19.6]\n",
      " [22. ]\n",
      " [18.7]\n",
      " [17.4]\n",
      " [36. ]]\n",
      "변경후 test input :\n",
      "[[ 8.4]\n",
      " [18. ]\n",
      " [27.5]\n",
      " [21.3]\n",
      " [22.5]]\n"
     ]
    }
   ],
   "source": [
    "from sklearn.model_selection import train_test_split\n",
    "\n",
    "#훈련/테스트 세트 나눔\n",
    "train_input, test_input, train_target, test_target = train_test_split(perch_length,perch_weight,random_state=42)\n",
    "\n",
    "print(f\"변경전 train input :\\n{train_input[:5]}\")\n",
    "print(f\"변경전 test input :\\n{test_input[:5]}\")\n",
    "#사이킷런에 돌리기위해 2차원배열로 구분\n",
    "train_input = train_input.reshape(-1,1)\n",
    "test_input = test_input.reshape(-1,1)\n",
    "print(f\"변경후 train input :\\n{train_input[:5]}\")\n",
    "print(f\"변경후 test input :\\n{test_input[:5]}\")"
   ]
  },
  {
   "cell_type": "code",
   "execution_count": 11,
   "metadata": {},
   "outputs": [
    {
     "name": "stdout",
     "output_type": "stream",
     "text": [
      "[1033.33333333]\n"
     ]
    }
   ],
   "source": [
    "from sklearn.neighbors import KNeighborsRegressor\n",
    "\n",
    "#k-최근접 이웃 회귀 모델 생성. 이웃은 기본값 5 에서 3으로 수정\n",
    "knr = KNeighborsRegressor(n_neighbors=3)\n",
    "\n",
    "#k-최근접 이웃 회귀 모델 훈련\n",
    "knr.fit(train_input,train_target)\n",
    "\n",
    "#예측 진행(길이 50cm농어)\n",
    "nong_fish = np.array([[50]])\n",
    "print(knr.predict(nong_fish))"
   ]
  },
  {
   "cell_type": "code",
   "execution_count": 12,
   "metadata": {},
   "outputs": [
    {
     "data": {
      "image/png": "[encoded data removed]",
      "text/plain": [
       "<Figure size 640x480 with 1 Axes>"
      ]
     },
     "metadata": {},
     "output_type": "display_data"
    }
   ],
   "source": [
    "import matplotlib.pyplot as plt\n",
    "\n",
    "#50cm 농어의 이웃을 구함\n",
    "distances, indexes = knr.kneighbors(nong_fish)\n",
    "\n",
    "#산점도 그리기\n",
    "plt.scatter(train_input, train_target) #훈련세트\n",
    "plt.scatter(50,1033, marker=\"*\") #신규농어 50cm로 예측했을때 1033g으로 나왔기때문에\n",
    "plt.scatter(train_input[indexes], train_target[indexes], marker=\"D\") #이웃샘플 표시\n",
    "\n",
    "plt.xlabel(\"length\")\n",
    "plt.ylabel(\"weight\")\n",
    "plt.show()"
   ]
  },
  {
   "cell_type": "code",
   "execution_count": 13,
   "metadata": {},
   "outputs": [
    {
     "name": "stdout",
     "output_type": "stream",
     "text": [
      "신규농어의 이웃 평균 무게 : 1033.3333333333333\n"
     ]
    }
   ],
   "source": [
    "print(f\"신규농어의 이웃 평균 무게 : {np.mean(train_target[indexes])}\")"
   ]
  },
  {
   "cell_type": "code",
   "execution_count": 14,
   "metadata": {},
   "outputs": [
    {
     "name": "stdout",
     "output_type": "stream",
     "text": [
      "[1241.83860323]\n"
     ]
    }
   ],
   "source": [
    "#LinearRegression\n",
    "from sklearn.linear_model import LinearRegression\n",
    "\n",
    "lr = LinearRegression() #객체생성\n",
    "lr.fit(train_input, train_target) #훈련학습\n",
    "\n",
    "lr_nong = lr.predict([[50]]) #예측 : 길이 50인 농어\n",
    "print(lr_nong)"
   ]
  },
  {
   "cell_type": "code",
   "execution_count": 15,
   "metadata": {},
   "outputs": [
    {
     "name": "stdout",
     "output_type": "stream",
     "text": [
      "기울기(회계계수 또는 가중치) :\t[39.01714496]\n",
      "절편 :\t-709.0186449535477\n"
     ]
    }
   ],
   "source": [
    "print(f\"기울기(회계계수 또는 가중치) :\\t{lr.coef_}\")\n",
    "print(f\"절편 :\\t{lr.intercept_}\")"
   ]
  },
  {
   "cell_type": "code",
   "execution_count": 16,
   "metadata": {},
   "outputs": [
    {
     "data": {
      "image/png": "[encoded data removed]",
      "text/plain": [
       "<Figure size 640x480 with 1 Axes>"
      ]
     },
     "metadata": {},
     "output_type": "display_data"
    }
   ],
   "source": [
    "#농어 길이 15~50까지 직선으로 그리기.\n",
    "plt.scatter(train_input,train_target)\n",
    "\n",
    "#15~50까지 1차 방정식 그래프 그리기 : 기울기 & 절편\n",
    "plt.plot([15,50], [15*lr.coef_ + lr.intercept_, 50*lr.coef_ + lr.intercept_])\n",
    "\n",
    "#50cm 농어 데이터\n",
    "plt.scatter(50,1241.8, marker=\"^\")\n",
    "plt.xlabel(\"length\")\n",
    "plt.ylabel(\"weight\")\n",
    "plt.show()"
   ]
  },
  {
   "cell_type": "code",
   "execution_count": 17,
   "metadata": {},
   "outputs": [
    {
     "name": "stdout",
     "output_type": "stream",
     "text": [
      "0.939846333997604\n",
      "0.8247503123313558\n"
     ]
    }
   ],
   "source": [
    "print(lr.score(train_input, train_target)) #훈련 세트\n",
    "print(lr.score(test_input, test_target)) #테스트 세트"
   ]
  },
  {
   "cell_type": "markdown",
   "metadata": {},
   "source": [
    "1차 직선을 적용해보니 위와 같이 20이하의 데이터가 들어오면 - 값을 예측하게됨. 이는 무게가 -인데 옳지않음. 따라서 1차 직선이 아닌 2차 다항식을 적용하는 것곽 같은 회귀차수를 높인는 절차필요함"
   ]
  },
  {
   "cell_type": "code",
   "execution_count": 18,
   "metadata": {},
   "outputs": [
    {
     "name": "stdout",
     "output_type": "stream",
     "text": [
      "(42, 2)\n",
      "(14, 2)\n"
     ]
    }
   ],
   "source": [
    "train_poly = np.column_stack((train_input ** 2, train_input))\n",
    "test_poly = np.column_stack((test_input ** 2, test_input))\n",
    "\n",
    "print(train_poly.shape)\n",
    "print(test_poly.shape)"
   ]
  },
  {
   "cell_type": "code",
   "execution_count": 19,
   "metadata": {},
   "outputs": [
    {
     "name": "stdout",
     "output_type": "stream",
     "text": [
      "[1573.98423528]\n"
     ]
    }
   ],
   "source": [
    "#객체생성\n",
    "lr = LinearRegression()\n",
    "\n",
    "#학습\n",
    "lr.fit(train_poly, train_target)\n",
    "\n",
    "#예측\n",
    "print(lr.predict([[50**2,50]]))"
   ]
  },
  {
   "cell_type": "code",
   "execution_count": 20,
   "metadata": {},
   "outputs": [
    {
     "name": "stdout",
     "output_type": "stream",
     "text": [
      "기울기(회귀계수 또는 가중치) :\t[  1.01433211 -21.55792498]\n",
      "절편 :\t116.05021078278259\n"
     ]
    }
   ],
   "source": [
    "print(f\"기울기(회귀계수 또는 가중치) :\\t{lr.coef_}\")\n",
    "print(f\"절편 :\\t{lr.intercept_}\")"
   ]
  },
  {
   "cell_type": "markdown",
   "metadata": {},
   "source": [
    "무게 = 1.01 * 길이^2 - 21.6 * 길이 + 116.05<br>\n",
    "와 같이 그래프 학습"
   ]
  },
  {
   "cell_type": "code",
   "execution_count": 21,
   "metadata": {},
   "outputs": [
    {
     "data": {
      "image/png": "[encoded data removed]",
      "text/plain": [
       "<Figure size 640x480 with 1 Axes>"
      ]
     },
     "metadata": {},
     "output_type": "display_data"
    }
   ],
   "source": [
    "point = np.arange(15,50)\n",
    "plt.scatter(train_input,train_target)\n",
    "plt.plot(point, 1.01*point**2 - 21.6*point+116.05)\n",
    "\n",
    "plt.scatter(50,1574,marker=\"^\")\n",
    "plt.xlabel(\"length\")\n",
    "plt.ylabel(\"weight\")\n",
    "plt.show()"
   ]
  },
  {
   "cell_type": "code",
   "execution_count": 22,
   "metadata": {},
   "outputs": [
    {
     "name": "stdout",
     "output_type": "stream",
     "text": [
      "결정계수 :0.9706807451768623\n",
      "결정계수 :0.9775935108325121\n"
     ]
    }
   ],
   "source": [
    "print(f\"결정계수 :{lr.score(train_poly, train_target)}\")\n",
    "print(f\"결정계수 :{lr.score(test_poly, test_target)}\")\n",
    "#테스트 스코어가 약간 높은것으로 보아 과소적합이 보임"
   ]
  }
 ],
 "metadata": {
  "kernelspec": {
   "display_name": "base",
   "language": "python",
   "name": "python3"
  },
  "language_info": {
   "codemirror_mode": {
    "name": "ipython",
    "version": 3
   },
   "file_extension": ".py",
   "mimetype": "text/x-python",
   "name": "python",
   "nbconvert_exporter": "python",
   "pygments_lexer": "ipython3",
   "version": "3.11.7"
  }
 },
 "nbformat": 4,
 "nbformat_minor": 2
}
