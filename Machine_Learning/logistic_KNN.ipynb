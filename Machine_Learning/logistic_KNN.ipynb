{
 "cells": [
  {
   "cell_type": "markdown",
   "metadata": {},
   "source": [
    "럭키백<br>\n",
    "KNN최근접이웃<br>\n",
    "K-최근접 이웃은 주변이웃을 찾아주니까 이웃의 클래스 비율을 확룰로 출력"
   ]
  },
  {
   "cell_type": "code",
   "execution_count": 1,
   "metadata": {},
   "outputs": [
    {
     "name": "stdout",
     "output_type": "stream",
     "text": [
      "  Species  Weight  Length  Diagonal  Height   Width\n",
      "0   Bream   242.0    25.4      30.0   11.52  4.0200\n",
      "1   Bream   290.0    26.3      31.2   12.48  4.3056\n",
      "\n",
      "\n",
      "['Bream' 'Roach' 'Whitefish' 'Parkki' 'Perch' 'Pike' 'Smelt']\n"
     ]
    }
   ],
   "source": [
    "#데이터 호출 및 확인\n",
    "import pandas as pd\n",
    "fish = pd.read_csv(\"https://bit.ly/fish_csv_data\")\n",
    "print(fish.head(2))\n",
    "\n",
    "print(\"\\n\")\n",
    "#타겟값 중복값 제거하여 확인\n",
    "print(pd.unique(fish[\"Species\"]))\n",
    "\n"
   ]
  },
  {
   "cell_type": "code",
   "execution_count": 5,
   "metadata": {},
   "outputs": [
    {
     "data": {
      "text/plain": [
       "array([[-4.38072172e-01, -2.82303007e-01, -1.06020232e-01,\n",
       "         5.96578670e-01, -2.36528948e-01],\n",
       "       [-3.03562184e-01, -1.98053663e-01, -2.33668373e-03,\n",
       "         8.21260549e-01, -6.65789457e-02],\n",
       "       [-1.63447613e-01, -1.79331587e-01, -1.09769794e-02,\n",
       "         7.97341291e-01,  1.65793169e-01],\n",
       "       [-9.89949100e-02,  5.46943678e-02,  1.96390116e-01,\n",
       "         8.79771455e-01,  2.26210031e-02],\n",
       "       [ 8.87586153e-02,  5.46943678e-02,  2.39591594e-01,\n",
       "         8.12834979e-01,  4.26371272e-01],\n",
       "       [ 1.44804444e-01,  1.20221635e-01,  3.00073664e-01,\n",
       "         1.08395111e+00,  3.03431249e-01],\n",
       "       [ 2.84919015e-01,  1.20221635e-01,  2.82793073e-01,\n",
       "         1.21901769e+00,  5.12357880e-01],\n",
       "       [-2.33330416e-02,  1.48304750e-01,  3.25994551e-01,\n",
       "         8.65728838e-01,  1.62163285e-01],\n",
       "       [ 1.44804444e-01,  1.48304750e-01,  3.34634847e-01,\n",
       "         1.17815367e+00,  2.53683979e-01],\n",
       "       [ 2.84919015e-01,  2.13832017e-01,  4.29678099e-01,\n",
       "         1.23004114e+00,  3.22473266e-01],\n",
       "       [ 2.14861729e-01,  2.41915132e-01,  4.29678099e-01,\n",
       "         1.23851352e+00,  4.08638393e-01],\n",
       "       [ 2.84919015e-01,  2.41915132e-01,  4.29678099e-01,\n",
       "         1.26393066e+00,  2.36308139e-01],\n",
       "       [ 2.84919015e-01,  2.88720322e-01,  4.46958690e-01,\n",
       "         1.12064915e+00, -2.94470124e-02],\n",
       "       [-1.63447613e-01,  3.35525513e-01,  5.24721351e-01,\n",
       "         1.15662166e+00,  3.89953414e-01],\n",
       "       [ 5.65148157e-01,  3.35525513e-01,  5.16081055e-01,\n",
       "         1.40037809e+00,  4.48269591e-01],\n",
       "       [ 5.65148157e-01,  3.35525513e-01,  5.16081055e-01,\n",
       "         1.51356159e+00,  6.91769385e-01],\n",
       "       [ 8.45377299e-01,  4.29135895e-01,  6.11124307e-01,\n",
       "         1.37837799e+00,  5.16463815e-01],\n",
       "       [ 8.45377299e-01,  4.29135895e-01,  6.28404899e-01,\n",
       "         1.39653978e+00,  4.64157774e-01],\n",
       "       [ 5.93171071e-01,  4.75941086e-01,  6.37045194e-01,\n",
       "         1.55920010e+00,  4.26252259e-01],\n",
       "       [ 7.05262728e-01,  4.75941086e-01,  6.45685490e-01,\n",
       "         1.28789673e+00,  7.79600689e-01],\n",
       "       [ 4.95090871e-01,  5.22746277e-01,  7.14807855e-01,\n",
       "         1.44112509e+00,  6.85521223e-01],\n",
       "       [ 8.03342928e-01,  5.22746277e-01,  6.88886968e-01,\n",
       "         1.64359623e+00,  5.67044173e-01],\n",
       "       [ 6.21193985e-01,  5.69551468e-01,  7.32088446e-01,\n",
       "         1.53338508e+00,  5.13309981e-01],\n",
       "       [ 7.89331471e-01,  6.16356659e-01,  8.09851107e-01,\n",
       "         1.52072332e+00,  1.01941109e+00],\n",
       "       [ 8.45377299e-01,  6.16356659e-01,  8.01210812e-01,\n",
       "         1.70138160e+00,  6.97124952e-01],\n",
       "       [ 9.15434585e-01,  6.16356659e-01,  8.35771994e-01,\n",
       "         1.72934981e+00,  9.73353212e-01],\n",
       "       [ 9.01423127e-01,  6.16356659e-01,  8.09851107e-01,\n",
       "         1.72977109e+00,  9.95251532e-01],\n",
       "       [ 8.84609379e-01,  7.09967041e-01,  8.87613768e-01,\n",
       "         1.76609466e+00,  8.53328999e-01],\n",
       "       [ 1.26572101e+00,  7.09967041e-01,  8.96254064e-01,\n",
       "         1.85329931e+00,  1.05975637e+00],\n",
       "       [ 1.68606473e+00,  8.03577423e-01,  9.82657020e-01,\n",
       "         2.33716110e+00,  1.30051887e+00],\n",
       "       [ 1.46188141e+00,  9.43992995e-01,  1.11226146e+00,\n",
       "         2.12181756e+00,  1.12396367e+00],\n",
       "       [ 1.55996161e+00,  9.43992995e-01,  1.10362116e+00,\n",
       "         2.13284102e+00,  1.11545426e+00],\n",
       "       [ 1.47589287e+00,  1.03760338e+00,  1.21594500e+00,\n",
       "         2.28969706e+00,  1.38781462e+00],\n",
       "       [ 1.61600744e+00,  1.17801895e+00,  1.26778678e+00,\n",
       "         2.26189267e+00,  1.38638646e+00],\n",
       "       [ 1.54595015e+00,  1.17801895e+00,  1.31962855e+00,\n",
       "         2.02506393e+00,  1.16216671e+00],\n",
       "       [-1.00413504e+00, -1.34010032e+00, -1.29838103e+00,\n",
       "        -1.12897816e+00, -1.27907938e+00],\n",
       "       [-9.22868588e-01, -9.56297756e-01, -9.44128909e-01,\n",
       "        -8.59570547e-01, -9.49592982e-01],\n",
       "       [-8.97647965e-01, -9.00131527e-01, -8.66366249e-01,\n",
       "        -7.94670250e-01, -9.00381269e-01],\n",
       "       [-8.72427342e-01, -8.06521145e-01, -7.79963292e-01,\n",
       "        -7.85074461e-01, -7.39595237e-01],\n",
       "       [-7.79951725e-01, -7.87799069e-01, -7.79963292e-01,\n",
       "        -6.44788713e-01, -5.01808049e-01],\n",
       "       [-1.11622670e+00, -7.40993878e-01, -7.28121518e-01,\n",
       "        -5.84124605e-01, -6.34269080e-01],\n",
       "       [-8.07974640e-01, -7.12910764e-01, -7.02200631e-01,\n",
       "        -6.56093020e-01, -6.08026800e-01],\n",
       "       [-7.79951725e-01, -6.94188687e-01, -6.50358857e-01,\n",
       "        -6.68520736e-01, -6.68366192e-01],\n",
       "       [-6.95882983e-01, -6.00578305e-01, -5.63955901e-01,\n",
       "        -7.41097664e-01, -3.94577690e-01],\n",
       "       [-7.09894440e-01, -6.00578305e-01, -5.98517084e-01,\n",
       "        -5.46981882e-01, -5.17517713e-01],\n",
       "       [-6.67860069e-01, -5.53773114e-01, -5.12114127e-01,\n",
       "        -4.53481454e-01, -3.55363036e-01],\n",
       "       [-7.23905897e-01, -5.53773114e-01, -5.38035014e-01,\n",
       "        -5.66618142e-01, -6.50097757e-01],\n",
       "       [-6.67860069e-01, -5.53773114e-01, -5.38035014e-01,\n",
       "        -6.01724686e-01, -3.67442816e-01],\n",
       "       [-6.42639446e-01, -4.13357542e-01, -3.47948510e-01,\n",
       "        -3.36225599e-01, -3.46496597e-01],\n",
       "       [-6.65057777e-01, -4.69523771e-01, -3.91149988e-01,\n",
       "        -4.81122006e-01, -4.67889456e-01],\n",
       "       [-5.55768412e-01, -4.60162732e-01, -3.82509692e-01,\n",
       "        -3.68430001e-01, -1.72738191e-01],\n",
       "       [-6.11814240e-01, -3.01025083e-01, -2.87466440e-01,\n",
       "        -4.41030334e-01, -3.04366134e-01],\n",
       "       [-3.03562184e-01, -2.26136778e-01, -1.75142597e-01,\n",
       "        -2.20454374e-02,  4.71971064e-02],\n",
       "       [-3.54003429e-01, -1.32526396e-01, -5.41784576e-02,\n",
       "        -9.43181086e-02,  2.11910554e-01],\n",
       "       [-2.33330416e-02,  3.07442399e-01,  3.25994551e-01,\n",
       "         1.20299895e-01,  5.57880202e-01],\n",
       "       [-3.59608012e-01, -2.26136778e-01, -2.18344075e-01,\n",
       "        -1.38224692e-01, -1.01092602e-01],\n",
       "       [-3.59608012e-01, -1.79331587e-01, -1.66502301e-01,\n",
       "        -1.93224944e-01, -1.00557045e-01],\n",
       "       [-2.58725521e-01, -3.89160141e-02, -3.68978663e-02,\n",
       "        -4.51689475e-02,  1.57164755e-01],\n",
       "       [ 3.97010672e-01,  2.41915132e-01,  2.39591594e-01,\n",
       "         4.14960818e-01,  1.27612128e+00],\n",
       "       [ 1.12560644e+00,  7.47411194e-01,  7.23448151e-01,\n",
       "         6.53029992e-01,  1.28302402e+00],\n",
       "       [ 1.68606473e+00,  1.08440857e+00,  1.06041968e+00,\n",
       "         7.91771053e-01,  1.25410395e+00],\n",
       "       [-9.62100668e-01, -1.28393409e+00, -1.27246014e+00,\n",
       "        -4.96990164e-01, -1.24426820e+00],\n",
       "       [-9.48089211e-01, -1.20904579e+00, -1.19469748e+00,\n",
       "        -5.60252156e-01, -1.25158747e+00],\n",
       "       [-8.64020468e-01, -1.00310295e+00, -9.87330388e-01,\n",
       "        -3.66464035e-01, -1.03807885e+00],\n",
       "       [-7.79951725e-01, -8.81409451e-01, -8.57725953e-01,\n",
       "        -1.35462978e-01, -8.92228905e-01],\n",
       "       [-6.95882983e-01, -7.87799069e-01, -7.62682701e-01,\n",
       "        -1.83007394e-02, -6.69258786e-01],\n",
       "       [-7.23905897e-01, -7.22271802e-01, -6.93560336e-01,\n",
       "        -1.01433035e-01, -6.68306686e-01],\n",
       "       [-6.39837154e-01, -7.22271802e-01, -6.93560336e-01,\n",
       "         9.94700123e-02, -5.99279374e-01],\n",
       "       [-7.09894440e-01, -6.47383496e-01, -6.15797675e-01,\n",
       "         1.79138462e-01, -7.50008840e-01],\n",
       "       [-5.55768412e-01, -5.06967923e-01, -4.68912649e-01,\n",
       "         3.21764647e-01, -4.48609413e-01],\n",
       "       [-3.51201138e-01, -3.19747160e-01, -2.78826145e-01,\n",
       "         4.95471824e-01, -1.62741132e-01],\n",
       "       [-2.75539270e-01, -2.26136778e-01, -1.92423188e-01,\n",
       "         5.61004039e-01, -1.09185459e-01],\n",
       "       [-1.09969318e+00, -1.87367950e+00, -1.93776291e+00,\n",
       "        -1.60530375e+00, -1.79083359e+00],\n",
       "       [-1.02655337e+00, -1.37754447e+00, -1.42798547e+00,\n",
       "        -1.27389797e+00, -1.43903233e+00],\n",
       "       [-1.00413504e+00, -1.25585098e+00, -1.31566162e+00,\n",
       "        -1.20462106e+00, -1.18148905e+00],\n",
       "       [-9.71908688e-01, -1.14351852e+00, -1.21197807e+00,\n",
       "        -1.02478194e+00, -1.06271446e+00],\n",
       "       [-9.20066296e-01, -1.03118606e+00, -1.09965423e+00,\n",
       "        -1.02581173e+00, -8.78304430e-01],\n",
       "       [-8.35997554e-01, -9.75019833e-01, -1.03917216e+00,\n",
       "        -8.77334458e-01, -6.52120971e-01],\n",
       "       [-8.97647965e-01, -9.09492565e-01, -1.02189157e+00,\n",
       "        -8.82764270e-01, -7.70062464e-01],\n",
       "       [-8.92043382e-01, -8.81409451e-01, -9.52769205e-01,\n",
       "        -7.80580824e-01, -8.13621079e-01],\n",
       "       [-8.78031925e-01, -8.25243222e-01, -9.00927431e-01,\n",
       "        -8.97181357e-01, -8.21594923e-01],\n",
       "       [-8.78031925e-01, -7.87799069e-01, -8.83646840e-01,\n",
       "        -9.10194183e-01, -9.79167615e-01],\n",
       "       [-8.07974640e-01, -6.94188687e-01, -7.54042405e-01,\n",
       "        -7.67310550e-01, -5.13233259e-01],\n",
       "       [-7.93963182e-01, -6.94188687e-01, -7.54042405e-01,\n",
       "        -7.14650735e-01, -6.60511360e-01],\n",
       "       [-7.65940268e-01, -6.94188687e-01, -7.54042405e-01,\n",
       "        -7.67310550e-01, -4.46288668e-01],\n",
       "       [-7.51928811e-01, -6.66105573e-01, -7.28121518e-01,\n",
       "        -6.05469384e-01, -5.25729583e-01],\n",
       "       [-7.79951725e-01, -6.00578305e-01, -6.67639449e-01,\n",
       "        -6.69597337e-01, -6.01005056e-01],\n",
       "       [-7.79951725e-01, -6.00578305e-01, -6.67639449e-01,\n",
       "        -7.79597840e-01, -5.31085150e-01],\n",
       "       [-7.51928811e-01, -6.00578305e-01, -6.67639449e-01,\n",
       "        -6.69597337e-01, -5.31085150e-01],\n",
       "       [-7.37917354e-01, -6.00578305e-01, -6.67639449e-01,\n",
       "        -7.24597589e-01, -5.31085150e-01],\n",
       "       [-8.07974640e-01, -6.00578305e-01, -6.67639449e-01,\n",
       "        -8.07097966e-01, -2.51405524e-01],\n",
       "       [-7.51928811e-01, -5.53773114e-01, -6.24437970e-01,\n",
       "        -7.29044417e-01, -4.72173910e-01],\n",
       "       [-6.95882983e-01, -5.53773114e-01, -6.24437970e-01,\n",
       "        -5.09979585e-01, -4.72173910e-01],\n",
       "       [-7.09894440e-01, -5.35051038e-01, -6.07157379e-01,\n",
       "        -7.06295377e-01, -4.68603531e-01],\n",
       "       [-6.95882983e-01, -5.06967923e-01, -5.81236492e-01,\n",
       "        -8.78247228e-01, -4.70983784e-01],\n",
       "       [-6.39837154e-01, -4.60162732e-01, -5.38035014e-01,\n",
       "        -6.30980139e-01, -4.12072543e-01],\n",
       "       [-4.85711126e-01, -4.13357542e-01, -4.94833536e-01,\n",
       "        -3.92723729e-01, -4.13262669e-01],\n",
       "       [-7.09894440e-01, -4.13357542e-01, -4.94833536e-01,\n",
       "        -6.07575777e-01, -3.52566240e-01],\n",
       "       [-5.89395909e-01, -3.57191312e-01, -4.34351466e-01,\n",
       "        -5.23694542e-01, -1.49768758e-01],\n",
       "       [-6.11814240e-01, -3.19747160e-01, -4.08430579e-01,\n",
       "        -5.92479963e-01, -4.36767659e-01],\n",
       "       [-5.64175286e-01, -2.63580931e-01, -3.65229101e-01,\n",
       "        -5.64043662e-01, -1.06210144e-01],\n",
       "       [-5.05327166e-01, -1.79331587e-01, -2.78826145e-01,\n",
       "        -4.21979182e-01, -1.62741132e-01],\n",
       "       [-2.75539270e-01, -1.04443281e-01, -2.18344075e-01,\n",
       "        -1.51658797e-01,  4.28334980e-01],\n",
       "       [-3.87630926e-01, -8.57212050e-02, -2.01063484e-01,\n",
       "        -4.22166417e-01, -4.90840925e-02],\n",
       "       [-3.73619469e-01, -8.57212050e-02, -2.01063484e-01,\n",
       "        -4.49221860e-01, -4.90840925e-02],\n",
       "       [-4.15653841e-01, -8.57212050e-02, -2.01063484e-01,\n",
       "        -3.95110974e-01,  8.84944810e-02],\n",
       "       [-4.15653841e-01, -3.89160141e-02, -1.57862005e-01,\n",
       "        -2.69289122e-01, -1.26918337e-01],\n",
       "       [-2.75539270e-01,  2.66112532e-02, -9.73799359e-02,\n",
       "        -3.24336182e-01,  1.29672843e-01],\n",
       "       [-2.19493441e-01,  1.48304750e-01,  3.22244989e-02,\n",
       "        -3.17221256e-01,  2.10720428e-01],\n",
       "       [ 3.24151095e-01,  4.10413819e-01,  2.39591594e-01,\n",
       "         2.47853670e-01,  9.52406994e-01],\n",
       "       [ 4.41847334e-01,  5.69551468e-01,  4.55598986e-01,\n",
       "         3.00864551e-01,  1.17228278e+00],\n",
       "       [ 1.23769810e+00,  6.16356659e-01,  5.24721351e-01,\n",
       "         5.89182892e-01,  2.01025055e+00],\n",
       "       [ 8.03342928e-01,  7.56772232e-01,  6.71606377e-01,\n",
       "         4.47024794e-01,  1.45583032e+00],\n",
       "       [ 8.45377299e-01,  7.09967041e-01,  6.11124307e-01,\n",
       "         3.83388333e-01,  1.38251855e+00],\n",
       "       [ 8.45377299e-01,  8.03577423e-01,  7.06167559e-01,\n",
       "         4.36258788e-01,  1.09914954e+00],\n",
       "       [ 8.17354385e-01,  8.03577423e-01,  6.97527264e-01,\n",
       "         3.74635101e-01,  1.15984597e+00],\n",
       "       [ 1.40583558e+00,  9.90798186e-01,  8.78973472e-01,\n",
       "         5.06846345e-01,  1.83036299e+00],\n",
       "       [ 7.05262728e-01,  9.90798186e-01,  8.78973472e-01,\n",
       "         5.06846345e-01,  9.43481048e-01],\n",
       "       [ 1.18165227e+00,  9.90798186e-01,  8.70333177e-01,\n",
       "         8.09862625e-01,  1.74586404e+00],\n",
       "       [ 1.26572101e+00,  1.08440857e+00,  9.56736133e-01,\n",
       "         6.92208895e-01,  1.60007360e+00],\n",
       "       [ 1.40583558e+00,  1.08440857e+00,  9.74016725e-01,\n",
       "         6.45727831e-01,  1.67064808e+00],\n",
       "       [ 1.72809910e+00,  1.08440857e+00,  9.65376429e-01,\n",
       "         7.98043422e-01,  1.81191604e+00],\n",
       "       [ 1.18165227e+00,  1.08440857e+00,  9.74016725e-01,\n",
       "         5.06471875e-01,  1.31658557e+00],\n",
       "       [ 1.96629387e+00,  1.27162933e+00,  1.15546293e+00,\n",
       "         8.96201318e-01,  1.45844860e+00],\n",
       "       [ 1.68606473e+00,  1.36523971e+00,  1.20730471e+00,\n",
       "         6.93191878e-01,  1.70171037e+00],\n",
       "       [ 1.96629387e+00,  1.36523971e+00,  1.23322559e+00,\n",
       "         8.28866967e-01,  1.78460265e+00],\n",
       "       [ 1.68606473e+00,  1.41204490e+00,  1.27642707e+00,\n",
       "         8.50281959e-01,  2.21632088e+00],\n",
       "       [ 1.68606473e+00,  1.45885010e+00,  1.32826885e+00,\n",
       "         8.23320133e-01,  1.89129745e+00],\n",
       "       [-5.55768412e-01,  3.63608628e-01,  3.08713960e-01,\n",
       "        -7.96448981e-01, -6.19987567e-01],\n",
       "       [-2.75539270e-01,  5.22746277e-01,  5.67922829e-01,\n",
       "        -7.63729683e-01, -1.54410249e-01],\n",
       "       [-2.75539270e-01,  6.16356659e-01,  6.54325786e-01,\n",
       "        -7.10227310e-01, -1.96879786e-02],\n",
       "       [-2.75539270e-01,  8.31660537e-01,  7.40728742e-01,\n",
       "        -6.27843954e-01, -2.36647961e-01],\n",
       "       [ 8.87586153e-02,  8.97187805e-01,  8.01210812e-01,\n",
       "        -3.93425860e-01,  9.46236302e-02],\n",
       "       [-1.49436156e-01,  9.43992995e-01,  8.44412290e-01,\n",
       "        -6.02660860e-01, -2.62116659e-01],\n",
       "       [ 1.61618192e-01,  1.31843452e+00,  1.23322559e+00,\n",
       "        -3.95766297e-01, -5.65223804e-02],\n",
       "       [ 3.12941929e-01,  1.31843452e+00,  1.23322559e+00,\n",
       "        -5.02256146e-01,  2.47037237e-02],\n",
       "       [ 3.97010672e-01,  1.36523971e+00,  1.25914648e+00,\n",
       "        -2.77340223e-01,  4.23752994e-01],\n",
       "       [ 2.84919015e-01,  1.55246048e+00,  1.44923299e+00,\n",
       "        -4.70660256e-01,  2.84746270e-01],\n",
       "       [ 4.72672540e-01,  1.64607086e+00,  1.50971505e+00,\n",
       "        -2.75935961e-01,  2.69274631e-01],\n",
       "       [ 1.04153770e+00,  1.83329162e+00,  1.72572245e+00,\n",
       "        -3.02148847e-01,  5.70376526e-01],\n",
       "       [ 1.54595015e+00,  2.17965004e+00,  2.06269398e+00,\n",
       "        -1.04836824e-02,  1.04357065e+00],\n",
       "       [ 2.38663758e+00,  2.58217468e+00,  2.46014758e+00,\n",
       "         4.01456501e-01,  1.52777344e+00],\n",
       "       [ 3.36743958e+00,  2.95661621e+00,  2.83168029e+00,\n",
       "         1.47214912e-01,  1.02738494e+00],\n",
       "       [ 3.22732501e+00,  2.95661621e+00,  2.83168029e+00,\n",
       "         1.47214912e-01,  1.02738494e+00],\n",
       "       [ 3.50755415e+00,  3.27489150e+00,  3.17729212e+00,\n",
       "         4.30875784e-01,  1.82238915e+00],\n",
       "       [-1.09745134e+00, -1.74262496e+00, -1.76495700e+00,\n",
       "        -1.69264883e+00, -2.00529431e+00],\n",
       "       [-1.09520951e+00, -1.67709770e+00, -1.69583463e+00,\n",
       "        -1.63806985e+00, -1.93840923e+00],\n",
       "       [-1.09661066e+00, -1.66773666e+00, -1.69583463e+00,\n",
       "        -1.69508288e+00, -1.94531196e+00],\n",
       "       [-1.08904447e+00, -1.63029251e+00, -1.66127345e+00,\n",
       "        -1.58564408e+00, -1.80749536e+00],\n",
       "       [-1.08876424e+00, -1.61157043e+00, -1.62671227e+00,\n",
       "        -1.61204420e+00, -1.86866784e+00],\n",
       "       [-1.09184676e+00, -1.60220939e+00, -1.60943167e+00,\n",
       "        -1.63661878e+00, -1.86390733e+00],\n",
       "       [-1.08820378e+00, -1.55540420e+00, -1.56623020e+00,\n",
       "        -1.58145470e+00, -1.86474042e+00],\n",
       "       [-1.08848401e+00, -1.55540420e+00, -1.56623020e+00,\n",
       "        -1.58145470e+00, -1.93489835e+00],\n",
       "       [-1.08876424e+00, -1.53668212e+00, -1.55758990e+00,\n",
       "        -1.58367812e+00, -1.94531196e+00],\n",
       "       [-1.08203874e+00, -1.51796005e+00, -1.54030931e+00,\n",
       "        -1.61035909e+00, -1.79940250e+00],\n",
       "       [-1.07867599e+00, -1.49923797e+00, -1.53166901e+00,\n",
       "        -1.53087787e+00, -1.87354735e+00],\n",
       "       [-1.08203874e+00, -1.44307174e+00, -1.50574813e+00,\n",
       "        -1.56668655e+00, -1.88140219e+00],\n",
       "       [-1.06102155e+00, -1.32137825e+00, -1.38478399e+00,\n",
       "        -1.42724336e+00, -1.39856804e+00],\n",
       "       [-1.06046110e+00, -1.25585098e+00, -1.29838103e+00,\n",
       "        -1.41334117e+00, -1.51043989e+00]])"
      ]
     },
     "execution_count": 5,
     "metadata": {},
     "output_type": "execute_result"
    }
   ],
   "source": [
    "# 트레이닝, 테스트 데이터 전처리\n",
    "# 평균과 표준편차를 직접 구해 특성을 표준점수로 바꾸어주는 데이터 스케일링 작업 → StandardScaler\n",
    "from sklearn.preprocessing import StandardScaler\n",
    "\n",
    "ss=StandardScaler()"
   ]
  },
  {
   "cell_type": "markdown",
   "metadata": {},
   "source": [
    "판다스로 데이터 호출 및 배열변환<br>\n",
    "Species 종류별로 확률구하기"
   ]
  },
  {
   "cell_type": "code",
   "execution_count": 6,
   "metadata": {},
   "outputs": [
    {
     "name": "stdout",
     "output_type": "stream",
     "text": [
      "[[-0.43807217 -0.28230301 -0.10602023  0.59657867 -0.23652895]\n",
      " [-0.30356218 -0.19805366 -0.00233668  0.82126055 -0.06657895]]\n",
      "['Bream' 'Bream']\n"
     ]
    }
   ],
   "source": [
    "#전처리 : 인풋과 타겟 데이터 분리 후 배열로 저장\n",
    "fish_input = ss.fit_transform(fish[[\"Weight\", \"Length\", \"Diagonal\", \"Height\", \"Width\"]]) \n",
    "print(fish_input[:2])\n",
    "\n",
    "fish_target = fish[\"Species\"].to_numpy()\n",
    "print(fish_target[:2])"
   ]
  },
  {
   "cell_type": "code",
   "execution_count": 9,
   "metadata": {},
   "outputs": [],
   "source": [
    "#트레이닝, 테스트 세트 분리\n",
    "from sklearn.model_selection import train_test_split\n",
    "\n",
    "train_scaled, test_scaled, train_target, test_target = train_test_split(fish_input, fish_target, random_state = 42)"
   ]
  },
  {
   "cell_type": "markdown",
   "metadata": {},
   "source": [
    "K최근접 이웃의 다중분류"
   ]
  },
  {
   "cell_type": "code",
   "execution_count": 11,
   "metadata": {},
   "outputs": [
    {
     "name": "stdout",
     "output_type": "stream",
     "text": [
      "트레이닝 데이터 학습 점수 : 0.8907563025210085\n",
      "테스트 데이터 학습 점수 : 0.85\n"
     ]
    }
   ],
   "source": [
    "#k-최근접 이웃분류기 확률예측\n",
    "#k-최근접 이웃 알고리즘 생성 및 학습\n",
    "from sklearn.neighbors import KNeighborsClassifier\n",
    "#모델생성\n",
    "kn = KNeighborsClassifier(n_neighbors=3) #이웃개수 3개\n",
    "#모델학습\n",
    "kn.fit(train_scaled, train_target)\n",
    "print(f\"트레이닝 데이터 학습 점수 : {kn.score(train_scaled,train_target)}\")\n",
    "print(f\"테스트 데이터 학습 점수 : {kn.score(test_scaled,test_target)}\")"
   ]
  },
  {
   "cell_type": "code",
   "execution_count": 12,
   "metadata": {},
   "outputs": [
    {
     "name": "stdout",
     "output_type": "stream",
     "text": [
      "['Bream' 'Roach' 'Whitefish' 'Parkki' 'Perch' 'Pike' 'Smelt']\n",
      "['Bream' 'Parkki' 'Perch' 'Pike' 'Roach' 'Smelt' 'Whitefish']\n"
     ]
    }
   ],
   "source": [
    "#클래스 즉 타겟확인\n",
    "print(pd.unique(fish[\"Species\"]))\n",
    "#사이킷런 모델에 전달하면 순서가 자동으로 알파벳 순으로 정렬됨\n",
    "print(kn.classes_)"
   ]
  },
  {
   "cell_type": "code",
   "execution_count": 13,
   "metadata": {},
   "outputs": [
    {
     "data": {
      "text/plain": [
       "array(['Perch', 'Smelt', 'Pike', 'Perch', 'Perch'], dtype=object)"
      ]
     },
     "execution_count": 13,
     "metadata": {},
     "output_type": "execute_result"
    }
   ],
   "source": [
    "#5개 데이터 예측진행\n",
    "kn.predict(test_scaled[:5])"
   ]
  },
  {
   "cell_type": "markdown",
   "metadata": {},
   "source": [
    "위 5개 데이터 예측은 어떤 확률로 생성되었을까?<br>\n",
    "사이킷런의 분류모델은 predict_proba() 메서드로 클래스 분류 확률값 반환함<br>\n",
    "확률 출력을 위해 predict_proba 메서드 사용"
   ]
  },
  {
   "cell_type": "code",
   "execution_count": 8,
   "metadata": {},
   "outputs": [
    {
     "name": "stdout",
     "output_type": "stream",
     "text": [
      "['Bream' 'Parkki' 'Perch' 'Pike' 'Roach' 'Smelt' 'Whitefish']\n",
      "\n",
      "\n",
      "[[0.   0.   1.   0.   0.   0.   0.  ]\n",
      " [0.   0.   0.   0.   0.   1.   0.  ]\n",
      " [0.   0.   0.   1.   0.   0.   0.  ]\n",
      " [0.   0.   0.67 0.   0.33 0.   0.  ]\n",
      " [0.   0.   0.67 0.   0.33 0.   0.  ]]\n"
     ]
    }
   ],
   "source": [
    "import numpy as np\n",
    "proba = kn.predict_proba(test_scaled[:5]) #확률 출력을 위해 predict_proba 메서드 사용\n",
    "print(kn.classes_)  #속성값 확인\n",
    "print(\"\\n\")\n",
    "print(np.round(proba, decimals=2)) #소수점 자리수 조정을 위해 decimals 조정, 해당코드에서는 소수점 3자리부터 반올림함"
   ]
  },
  {
   "cell_type": "markdown",
   "metadata": {},
   "source": [
    "회귀식의 결과값을 0~1사이의 확률값으로 반환하기위해 시그모이드 함수사용"
   ]
  },
  {
   "cell_type": "code",
   "execution_count": 14,
   "metadata": {},
   "outputs": [
    {
     "name": "stdout",
     "output_type": "stream",
     "text": [
      "[['Roach' 'Perch' 'Perch']]\n"
     ]
    }
   ],
   "source": [
    "#네번째샘플에 대한 이웃 인덱스를 활용한 시각화 ★★★\n",
    "\n",
    "distances, indexes = kn.kneighbors(test_scaled[3:4])\n",
    "print(train_target[indexes])\n",
    "\n",
    "#3분의 2확률로 perch "
   ]
  },
  {
   "cell_type": "code",
   "execution_count": 10,
   "metadata": {},
   "outputs": [
    {
     "data": {
      "image/png": "[encoded data removed]",
      "text/plain": [
       "<Figure size 640x480 with 1 Axes>"
      ]
     },
     "metadata": {},
     "output_type": "display_data"
    }
   ],
   "source": [
    "#시그모이드 함수시각화\n",
    "\n",
    "import numpy as np\n",
    "import matplotlib.pyplot as plt\n",
    "z = np.arange(-5,5,0.1)\n",
    "phi = 1/(1+np.exp(-z))\n",
    "plt.plot(z,phi)\n",
    "plt.xlabel(\"z\")\n",
    "plt.ylabel(\"phi\")\n",
    "plt.show()"
   ]
  },
  {
   "cell_type": "markdown",
   "metadata": {},
   "source": [
    "로지스틱회귀 : z = [a*(weight) + b*(length) + c*(Diagonal) + d*(height)+ e*(weight)] + f <br>\n",
    "로지스틱회귀 값 z를 확률로 변환해주는데 필요한 함수가 시그모이드함수와 소프트맥스가 있음<br>\n",
    "-시그모이드함수(로지스틱함수) : 이진분류를 목표로할때 사용하며, 선형방정식의 출력을 0과 1사이의 값으로 압축함(0~100%)<br>\n",
    "-소프트맥스 : 다중분류를 목표로할때 사용하며, 여러 선형 방정식의 출력결과를 정규화하여 합이 1이되도록 만듬(0~100%)"
   ]
  },
  {
   "cell_type": "code",
   "execution_count": 16,
   "metadata": {},
   "outputs": [],
   "source": [
    "#이진분류를 위한 데이터 분리\n",
    "bream_smelt_indexes = (train_target == \"Bream\") | (train_target == \"Smelt\")\n",
    "train_bream_smelt = train_scaled[bream_smelt_indexes]\n",
    "target_bream_smelt = train_target[bream_smelt_indexes]"
   ]
  },
  {
   "cell_type": "code",
   "execution_count": 35,
   "metadata": {},
   "outputs": [
    {
     "name": "stdout",
     "output_type": "stream",
     "text": [
      "['Bream' 'Smelt']\n",
      "['Bream' 'Smelt' 'Bream' 'Bream' 'Bream']\n",
      "[[0.99745183 0.00254817]\n",
      " [0.02849717 0.97150283]\n",
      " [0.99459324 0.00540676]\n",
      " [0.98511478 0.01488522]\n",
      " [0.99753497 0.00246503]]\n"
     ]
    }
   ],
   "source": [
    "from sklearn.linear_model import LogisticRegression\n",
    "lr = LogisticRegression()\n",
    "lr.fit(train_bream_smelt,target_bream_smelt)\n",
    "\n",
    "print(lr.classes_)\n",
    "print(lr.predict(train_bream_smelt[:5]))\n",
    "print(lr.predict_proba(train_bream_smelt[:5]))"
   ]
  },
  {
   "cell_type": "code",
   "execution_count": 30,
   "metadata": {},
   "outputs": [
    {
     "name": "stdout",
     "output_type": "stream",
     "text": [
      "회귀계수:[[-0.41981254 -0.60056128 -0.68786241 -1.00159093 -0.74532495]], 절편:[-2.1898649]\n",
      "z값 : [-5.96982853  3.52903927 -5.21468393 -4.19238958 -6.00308165]\n"
     ]
    }
   ],
   "source": [
    "print(f\"회귀계수:{lr.coef_}, 절편:{lr.intercept_}\")\n",
    "\n",
    "#z값 구하기\n",
    "decisions = lr.decision_function(train_bream_smelt[:5])\n",
    "print(f\"z값 : {decisions}\")"
   ]
  },
  {
   "cell_type": "code",
   "execution_count": 32,
   "metadata": {},
   "outputs": [
    {
     "name": "stdout",
     "output_type": "stream",
     "text": [
      "z값 : [-5.96982853  3.52903927 -5.21468393 -4.19238958 -6.00308165]\n",
      "z값에 시그모이드함수 적용 : [0.00254817 0.97150283 0.00540676 0.01488522 0.00246503]\n"
     ]
    }
   ],
   "source": [
    "#이진분류에서의 확률변환 : 시그모이드함수\n",
    "from scipy.special import expit\n",
    "print(f\"z값 : {decisions}\")\n",
    "print(f\"z값에 시그모이드함수 적용 : {expit(decisions)}\")"
   ]
  },
  {
   "cell_type": "code",
   "execution_count": 52,
   "metadata": {},
   "outputs": [
    {
     "name": "stdout",
     "output_type": "stream",
     "text": [
      "학습데이터 점수 : 0.9243697478991597\n",
      "학습데이터 점수 : 0.925\n",
      "['Perch' 'Smelt' 'Pike' 'Roach' 'Perch']\n",
      "[[0.   0.01 0.84 0.   0.14 0.01 0.  ]\n",
      " [0.   0.   0.05 0.   0.01 0.94 0.  ]\n",
      " [0.   0.   0.03 0.93 0.02 0.01 0.  ]\n",
      " [0.01 0.03 0.32 0.01 0.55 0.   0.07]\n",
      " [0.   0.   0.9  0.   0.09 0.   0.  ]]\n",
      "z값 : [[ -6.28   1.05   5.11  -2.82   3.29   0.32  -0.65]\n",
      " [-10.51   1.95   4.7   -2.58   2.92   7.74  -4.22]\n",
      " [ -4.03  -6.14   3.08   6.37   2.34   2.17  -3.78]\n",
      " [ -0.61   0.42   2.64  -1.18   3.2   -5.68   1.2 ]\n",
      " [ -6.13  -1.92   5.72  -0.23   3.47  -0.22  -0.68]]\n",
      "z값 소프트맥스함수 적용\n",
      "[[0.   0.01 0.84 0.   0.14 0.01 0.  ]\n",
      " [0.   0.   0.05 0.   0.01 0.94 0.  ]\n",
      " [0.   0.   0.03 0.93 0.02 0.01 0.  ]\n",
      " [0.01 0.03 0.32 0.01 0.55 0.   0.07]\n",
      " [0.   0.   0.9  0.   0.09 0.   0.  ]]\n"
     ]
    }
   ],
   "source": [
    "#다중분류에서의 확률변환 : 소프트맥스\n",
    "lr = LogisticRegression(C=20, max_iter=1000) #C규제값 20, 1000번 반복\n",
    "lr.fit(train_scaled, train_target)\n",
    "print(f\"학습데이터 점수 : {lr.score(train_scaled, train_target)}\")\n",
    "print(f\"학습데이터 점수 : {lr.score(test_scaled, test_target)}\")\n",
    "\n",
    "print(lr.predict(test_scaled[:5]))\n",
    "print(np.round(lr.predict_proba(test_scaled[:5]),decimals=2))\n",
    "\n",
    "import numpy as np\n",
    "\n",
    "from scipy.special import softmax\n",
    "#z값 구하기\n",
    "decision = lr.decision_function(test_scaled[:5])\n",
    "print(f\"z값 : {np.round(decision,decimals=2)}\")\n",
    "proba = softmax(decision, axis = 1)\n",
    "print(f\"z값 소프트맥스함수 적용\\n{np.round(proba,decimals=2)}\")"
   ]
  }
 ],
 "metadata": {
  "kernelspec": {
   "display_name": "Python 3",
   "language": "python",
   "name": "python3"
  },
  "language_info": {
   "codemirror_mode": {
    "name": "ipython",
    "version": 3
   },
   "file_extension": ".py",
   "mimetype": "text/x-python",
   "name": "python",
   "nbconvert_exporter": "python",
   "pygments_lexer": "ipython3",
   "version": "3.11.4"
  }
 },
 "nbformat": 4,
 "nbformat_minor": 2
}
